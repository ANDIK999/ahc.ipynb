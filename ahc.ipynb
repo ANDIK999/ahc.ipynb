{
  "nbformat": 4,
  "nbformat_minor": 0,
  "metadata": {
    "colab": {
      "provenance": [],
      "authorship_tag": "ABX9TyNPmQkKrfbhrcF84AFwup7m",
      "include_colab_link": true
    },
    "kernelspec": {
      "name": "python3",
      "display_name": "Python 3"
    },
    "language_info": {
      "name": "python"
    }
  },
  "cells": [
    {
      "cell_type": "markdown",
      "metadata": {
        "id": "view-in-github",
        "colab_type": "text"
      },
      "source": [
        "<a href=\"https://colab.research.google.com/github/ANDIK999/ahc.ipynb/blob/main/ahc.ipynb\" target=\"_parent\"><img src=\"https://colab.research.google.com/assets/colab-badge.svg\" alt=\"Open In Colab\"/></a>"
      ]
    },
    {
      "cell_type": "code",
      "execution_count": 1,
      "metadata": {
        "colab": {
          "base_uri": "https://localhost:8080/"
        },
        "id": "JG0kcUI_HQiz",
        "outputId": "a9ae55b8-1f49-43fd-d279-8afee0daf660"
      },
      "outputs": [
        {
          "output_type": "stream",
          "name": "stdout",
          "text": [
            "               kota  jumlah  posyandu_aktif  cluster\n",
            "0     Jakarta Pusat     495             425        0\n",
            "1     Jakarta Utara     644             394        0\n",
            "2     Jakarta Barat     851             325        0\n",
            "3   Jakarta Selatan    1265             978        1\n",
            "4     Jakarta Timur    1177            1126        1\n",
            "5  Kepulauan Seribu      37               6        0\n"
          ]
        }
      ],
      "source": [
        "import pandas as pd\n",
        "import numpy as np\n",
        "from sklearn.cluster import AgglomerativeClustering\n",
        "from scipy.spatial.distance import cdist\n",
        "\n",
        "# Membuat DataFrame dari dataset\n",
        "data = {\n",
        "    'kota': ['Jakarta Pusat', 'Jakarta Utara', 'Jakarta Barat', 'Jakarta Selatan', 'Jakarta Timur', 'Kepulauan Seribu'],\n",
        "    'jumlah': [495, 644, 851, 1265, 1177, 37],\n",
        "    'posyandu_aktif': [425, 394, 325, 978, 1126, 6]\n",
        "}\n",
        "df = pd.DataFrame(data)\n",
        "\n",
        "# Mengubah DataFrame menjadi matriks numpy\n",
        "X = df[['jumlah', 'posyandu_aktif']].values\n",
        "\n",
        "# Menentukan jumlah cluster yang diinginkan\n",
        "n_clusters = 2\n",
        "\n",
        "# Melakukan Agglomerative Hierarchical Clustering\n",
        "model = AgglomerativeClustering(n_clusters=n_clusters, linkage='ward')\n",
        "model.fit(X)\n",
        "\n",
        "# Menambahkan kolom cluster ke dalam DataFrame\n",
        "df['cluster'] = model.labels_\n",
        "\n",
        "# Menampilkan hasil clustering\n",
        "print(df)\n"
      ]
    },
    {
      "cell_type": "code",
      "source": [],
      "metadata": {
        "id": "-Tb1o4USHmEi"
      },
      "execution_count": null,
      "outputs": []
    }
  ]
}